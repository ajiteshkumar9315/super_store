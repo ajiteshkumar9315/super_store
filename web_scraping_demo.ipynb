{
 "cells": [
  {
   "cell_type": "code",
   "execution_count": 1,
   "id": "3bebcba2",
   "metadata": {},
   "outputs": [],
   "source": [
    "import pandas as pd\n",
    "import requests\n",
    "from bs4 import BeautifulSoup"
   ]
  },
  {
   "cell_type": "code",
   "execution_count": 2,
   "id": "de10790a",
   "metadata": {},
   "outputs": [],
   "source": [
    "headers = ({'User-Agent': 'Mozilla/5.0 (Windows NT 10.0; Win64; x64) AppleWebKit/537.36 (KHTML, like Gecko) Chrome/125.0.0.0 Safari/537.36', 'Accept-Language': 'en-US, en;q=0.5'})\n",
    "\n",
    "# this header used when you get error of <402> in request.get because it think you are a robot\n",
    "# so takle with it you have to use header it give assurance that this is an human not a robot"
   ]
  },
  {
   "cell_type": "code",
   "execution_count": 3,
   "id": "9d9318d1",
   "metadata": {},
   "outputs": [],
   "source": [
    "webpage = requests.get('https://www.ambitionbox.com/list-of-companies?campaign=desktop_nav&page=2', headers=headers).text"
   ]
  },
  {
   "cell_type": "code",
   "execution_count": 4,
   "id": "b8f61e65",
   "metadata": {},
   "outputs": [],
   "source": [
    "# lxml = alex ml\n",
    "soup = BeautifulSoup(webpage, 'lxml')"
   ]
  },
  {
   "cell_type": "code",
   "execution_count": 5,
   "id": "da59eb26",
   "metadata": {},
   "outputs": [
    {
     "data": {
      "text/plain": [
       "29"
      ]
     },
     "execution_count": 5,
     "metadata": {},
     "output_type": "execute_result"
    }
   ],
   "source": [
    "len(soup.find_all('p'))"
   ]
  },
  {
   "cell_type": "code",
   "execution_count": 6,
   "id": "4ba086c2",
   "metadata": {},
   "outputs": [
    {
     "name": "stdout",
     "output_type": "stream",
     "text": [
      "Vodafone Idea\n",
      "BYJU'S\n",
      "Kotak Mahindra Bank\n",
      "Deloitte\n",
      "Reliance Industries\n",
      "iEnergizer\n",
      "Bharti Airtel\n",
      "Tata Motors\n",
      "WNS\n",
      "Flipkart\n",
      "IndusInd Bank\n",
      "Ernst & Young\n",
      "AU Small Finance Bank\n",
      "Mahindra & Mahindra\n",
      "Infosys BPM\n",
      "DXC Technology\n",
      "IDFC FIRST Bank\n",
      "Conneqt Business Solutions\n",
      "LTIMindtree\n",
      "HDFC Life\n",
      "Companies by  Industry\n",
      "Companies by  Locations\n",
      "Companies by  Type\n",
      "Companies by  Badges\n"
     ]
    }
   ],
   "source": [
    "for i in soup.find_all('h2'):\n",
    "    print(i.text.strip())"
   ]
  },
  {
   "cell_type": "code",
   "execution_count": 42,
   "id": "e0e81b19",
   "metadata": {},
   "outputs": [
    {
     "data": {
      "text/plain": [
       "'485'"
      ]
     },
     "execution_count": 42,
     "metadata": {},
     "output_type": "execute_result"
    }
   ],
   "source": [
    "soup.find_all('span', class_= \"companyCardWrapper__ActionCount\")[2].text.strip()"
   ]
  },
  {
   "cell_type": "code",
   "execution_count": 20,
   "id": "02b431e5",
   "metadata": {},
   "outputs": [],
   "source": [
    "company = soup.find_all('div', class_='companyCardWrapper')"
   ]
  },
  {
   "cell_type": "code",
   "execution_count": 46,
   "id": "7b670427",
   "metadata": {},
   "outputs": [
    {
     "data": {
      "text/html": [
       "<div>\n",
       "<style scoped>\n",
       "    .dataframe tbody tr th:only-of-type {\n",
       "        vertical-align: middle;\n",
       "    }\n",
       "\n",
       "    .dataframe tbody tr th {\n",
       "        vertical-align: top;\n",
       "    }\n",
       "\n",
       "    .dataframe thead th {\n",
       "        text-align: right;\n",
       "    }\n",
       "</style>\n",
       "<table border=\"1\" class=\"dataframe\">\n",
       "  <thead>\n",
       "    <tr style=\"text-align: right;\">\n",
       "      <th></th>\n",
       "      <th>name</th>\n",
       "      <th>rating</th>\n",
       "      <th>review</th>\n",
       "      <th>salaries</th>\n",
       "      <th>interviews</th>\n",
       "      <th>job</th>\n",
       "      <th>benifits</th>\n",
       "    </tr>\n",
       "  </thead>\n",
       "  <tbody>\n",
       "    <tr>\n",
       "      <th>0</th>\n",
       "      <td>Vodafone Idea</td>\n",
       "      <td>4.2</td>\n",
       "      <td>14.2k</td>\n",
       "      <td>56.8k</td>\n",
       "      <td>485</td>\n",
       "      <td>15</td>\n",
       "      <td>2.1k</td>\n",
       "    </tr>\n",
       "    <tr>\n",
       "      <th>1</th>\n",
       "      <td>BYJU'S</td>\n",
       "      <td>3.1</td>\n",
       "      <td>15.3k</td>\n",
       "      <td>60.3k</td>\n",
       "      <td>2k</td>\n",
       "      <td>--</td>\n",
       "      <td>1.9k</td>\n",
       "    </tr>\n",
       "    <tr>\n",
       "      <th>2</th>\n",
       "      <td>Kotak Mahindra Bank</td>\n",
       "      <td>3.8</td>\n",
       "      <td>14.2k</td>\n",
       "      <td>78.8k</td>\n",
       "      <td>860</td>\n",
       "      <td>--</td>\n",
       "      <td>1.3k</td>\n",
       "    </tr>\n",
       "    <tr>\n",
       "      <th>3</th>\n",
       "      <td>Deloitte</td>\n",
       "      <td>3.9</td>\n",
       "      <td>14.6k</td>\n",
       "      <td>1.8L</td>\n",
       "      <td>2.1k</td>\n",
       "      <td>--</td>\n",
       "      <td>2.6k</td>\n",
       "    </tr>\n",
       "    <tr>\n",
       "      <th>4</th>\n",
       "      <td>Reliance Industries</td>\n",
       "      <td>4.1</td>\n",
       "      <td>13.7k</td>\n",
       "      <td>65.6k</td>\n",
       "      <td>1.1k</td>\n",
       "      <td>--</td>\n",
       "      <td>2k</td>\n",
       "    </tr>\n",
       "    <tr>\n",
       "      <th>5</th>\n",
       "      <td>iEnergizer</td>\n",
       "      <td>4.7</td>\n",
       "      <td>16k</td>\n",
       "      <td>19.1k</td>\n",
       "      <td>375</td>\n",
       "      <td>58</td>\n",
       "      <td>538</td>\n",
       "    </tr>\n",
       "    <tr>\n",
       "      <th>6</th>\n",
       "      <td>Bharti Airtel</td>\n",
       "      <td>4.1</td>\n",
       "      <td>12.1k</td>\n",
       "      <td>43.9k</td>\n",
       "      <td>678</td>\n",
       "      <td>--</td>\n",
       "      <td>1.6k</td>\n",
       "    </tr>\n",
       "    <tr>\n",
       "      <th>7</th>\n",
       "      <td>Tata Motors</td>\n",
       "      <td>4.2</td>\n",
       "      <td>10.5k</td>\n",
       "      <td>40.1k</td>\n",
       "      <td>822</td>\n",
       "      <td>--</td>\n",
       "      <td>1.8k</td>\n",
       "    </tr>\n",
       "    <tr>\n",
       "      <th>8</th>\n",
       "      <td>WNS</td>\n",
       "      <td>3.5</td>\n",
       "      <td>9.8k</td>\n",
       "      <td>55.1k</td>\n",
       "      <td>832</td>\n",
       "      <td>--</td>\n",
       "      <td>1.4k</td>\n",
       "    </tr>\n",
       "    <tr>\n",
       "      <th>9</th>\n",
       "      <td>Flipkart</td>\n",
       "      <td>4.1</td>\n",
       "      <td>9.5k</td>\n",
       "      <td>46.7k</td>\n",
       "      <td>1.1k</td>\n",
       "      <td>--</td>\n",
       "      <td>1.5k</td>\n",
       "    </tr>\n",
       "    <tr>\n",
       "      <th>10</th>\n",
       "      <td>IndusInd Bank</td>\n",
       "      <td>3.7</td>\n",
       "      <td>9.3k</td>\n",
       "      <td>46.5k</td>\n",
       "      <td>480</td>\n",
       "      <td>--</td>\n",
       "      <td>817</td>\n",
       "    </tr>\n",
       "    <tr>\n",
       "      <th>11</th>\n",
       "      <td>Ernst &amp; Young</td>\n",
       "      <td>3.6</td>\n",
       "      <td>9.2k</td>\n",
       "      <td>1.3L</td>\n",
       "      <td>950</td>\n",
       "      <td>201</td>\n",
       "      <td>1.3k</td>\n",
       "    </tr>\n",
       "    <tr>\n",
       "      <th>12</th>\n",
       "      <td>AU Small Finance Bank</td>\n",
       "      <td>4.4</td>\n",
       "      <td>8.8k</td>\n",
       "      <td>19k</td>\n",
       "      <td>356</td>\n",
       "      <td>41</td>\n",
       "      <td>490</td>\n",
       "    </tr>\n",
       "    <tr>\n",
       "      <th>13</th>\n",
       "      <td>Mahindra &amp; Mahindra</td>\n",
       "      <td>4.2</td>\n",
       "      <td>8.6k</td>\n",
       "      <td>36.7k</td>\n",
       "      <td>561</td>\n",
       "      <td>--</td>\n",
       "      <td>1.3k</td>\n",
       "    </tr>\n",
       "    <tr>\n",
       "      <th>14</th>\n",
       "      <td>Infosys BPM</td>\n",
       "      <td>3.8</td>\n",
       "      <td>8.4k</td>\n",
       "      <td>60.8k</td>\n",
       "      <td>799</td>\n",
       "      <td>97</td>\n",
       "      <td>1.2k</td>\n",
       "    </tr>\n",
       "    <tr>\n",
       "      <th>15</th>\n",
       "      <td>DXC Technology</td>\n",
       "      <td>3.8</td>\n",
       "      <td>8.5k</td>\n",
       "      <td>79.6k</td>\n",
       "      <td>693</td>\n",
       "      <td>80</td>\n",
       "      <td>1.2k</td>\n",
       "    </tr>\n",
       "    <tr>\n",
       "      <th>16</th>\n",
       "      <td>IDFC FIRST Bank</td>\n",
       "      <td>4.0</td>\n",
       "      <td>8.6k</td>\n",
       "      <td>41.9k</td>\n",
       "      <td>518</td>\n",
       "      <td>36</td>\n",
       "      <td>738</td>\n",
       "    </tr>\n",
       "    <tr>\n",
       "      <th>17</th>\n",
       "      <td>Conneqt Business Solutions</td>\n",
       "      <td>3.7</td>\n",
       "      <td>7.9k</td>\n",
       "      <td>26.1k</td>\n",
       "      <td>388</td>\n",
       "      <td>340</td>\n",
       "      <td>810</td>\n",
       "    </tr>\n",
       "    <tr>\n",
       "      <th>18</th>\n",
       "      <td>LTIMindtree</td>\n",
       "      <td>3.6</td>\n",
       "      <td>8.3k</td>\n",
       "      <td>1L</td>\n",
       "      <td>1.3k</td>\n",
       "      <td>--</td>\n",
       "      <td>862</td>\n",
       "    </tr>\n",
       "    <tr>\n",
       "      <th>19</th>\n",
       "      <td>HDFC Life</td>\n",
       "      <td>4.1</td>\n",
       "      <td>7.8k</td>\n",
       "      <td>30k</td>\n",
       "      <td>494</td>\n",
       "      <td>--</td>\n",
       "      <td>647</td>\n",
       "    </tr>\n",
       "  </tbody>\n",
       "</table>\n",
       "</div>"
      ],
      "text/plain": [
       "                          name rating review salaries interviews  job benifits\n",
       "0                Vodafone Idea    4.2  14.2k    56.8k        485   15     2.1k\n",
       "1                       BYJU'S    3.1  15.3k    60.3k         2k   --     1.9k\n",
       "2          Kotak Mahindra Bank    3.8  14.2k    78.8k        860   --     1.3k\n",
       "3                     Deloitte    3.9  14.6k     1.8L       2.1k   --     2.6k\n",
       "4          Reliance Industries    4.1  13.7k    65.6k       1.1k   --       2k\n",
       "5                   iEnergizer    4.7    16k    19.1k        375   58      538\n",
       "6                Bharti Airtel    4.1  12.1k    43.9k        678   --     1.6k\n",
       "7                  Tata Motors    4.2  10.5k    40.1k        822   --     1.8k\n",
       "8                          WNS    3.5   9.8k    55.1k        832   --     1.4k\n",
       "9                     Flipkart    4.1   9.5k    46.7k       1.1k   --     1.5k\n",
       "10               IndusInd Bank    3.7   9.3k    46.5k        480   --      817\n",
       "11               Ernst & Young    3.6   9.2k     1.3L        950  201     1.3k\n",
       "12       AU Small Finance Bank    4.4   8.8k      19k        356   41      490\n",
       "13         Mahindra & Mahindra    4.2   8.6k    36.7k        561   --     1.3k\n",
       "14                 Infosys BPM    3.8   8.4k    60.8k        799   97     1.2k\n",
       "15              DXC Technology    3.8   8.5k    79.6k        693   80     1.2k\n",
       "16             IDFC FIRST Bank    4.0   8.6k    41.9k        518   36      738\n",
       "17  Conneqt Business Solutions    3.7   7.9k    26.1k        388  340      810\n",
       "18                 LTIMindtree    3.6   8.3k       1L       1.3k   --      862\n",
       "19                   HDFC Life    4.1   7.8k      30k        494   --      647"
      ]
     },
     "execution_count": 46,
     "metadata": {},
     "output_type": "execute_result"
    }
   ],
   "source": [
    "name = []\n",
    "rating = []\n",
    "review = []\n",
    "salaries = []\n",
    "interviews = []\n",
    "job = []\n",
    "benifits = []\n",
    "\n",
    "for i in company:\n",
    "    name.append(i.find('h2').text.strip())\n",
    "    rating.append(i.find('span', class_='companyCardWrapper__companyRatingValue').text.strip())\n",
    "    review.append(i.find_all('span', class_= \"companyCardWrapper__ActionCount\")[0].text.strip())\n",
    "    salaries.append(i.find_all('span', class_= \"companyCardWrapper__ActionCount\")[1].text.strip())\n",
    "    interviews.append(i.find_all('span', class_= \"companyCardWrapper__ActionCount\")[2].text.strip())\n",
    "    job.append(i.find_all('span', class_= \"companyCardWrapper__ActionCount\")[3].text.strip())\n",
    "    benifits.append(i.find_all('span', class_= \"companyCardWrapper__ActionCount\")[4].text.strip())\n",
    "    \n",
    "d={'name':name, 'rating':rating, 'review':review, 'salaries':salaries, 'interviews':interviews, 'job':job, 'benifits':benifits}\n",
    "\n",
    "df=pd.DataFrame(d)\n",
    "df"
   ]
  },
  {
   "cell_type": "code",
   "execution_count": 45,
   "id": "2f0dde9c",
   "metadata": {},
   "outputs": [
    {
     "data": {
      "text/plain": [
       "['485',\n",
       " '2k',\n",
       " '860',\n",
       " '2.1k',\n",
       " '1.1k',\n",
       " '375',\n",
       " '678',\n",
       " '822',\n",
       " '832',\n",
       " '1.1k',\n",
       " '480',\n",
       " '950',\n",
       " '356',\n",
       " '561',\n",
       " '799',\n",
       " '693',\n",
       " '518',\n",
       " '388',\n",
       " '1.3k',\n",
       " '494']"
      ]
     },
     "execution_count": 45,
     "metadata": {},
     "output_type": "execute_result"
    }
   ],
   "source": [
    "interviews"
   ]
  },
  {
   "cell_type": "markdown",
   "id": "62a63b1d",
   "metadata": {},
   "source": [
    "# for multiple pages"
   ]
  },
  {
   "cell_type": "code",
   "execution_count": 48,
   "id": "72622da4",
   "metadata": {},
   "outputs": [
    {
     "name": "stderr",
     "output_type": "stream",
     "text": [
      "C:\\Users\\ASUS\\AppData\\Local\\Temp\\ipykernel_19180\\1427949191.py:31: FutureWarning: The frame.append method is deprecated and will be removed from pandas in a future version. Use pandas.concat instead.\n",
      "  final = final.append(df)\n",
      "C:\\Users\\ASUS\\AppData\\Local\\Temp\\ipykernel_19180\\1427949191.py:31: FutureWarning: The frame.append method is deprecated and will be removed from pandas in a future version. Use pandas.concat instead.\n",
      "  final = final.append(df)\n",
      "C:\\Users\\ASUS\\AppData\\Local\\Temp\\ipykernel_19180\\1427949191.py:31: FutureWarning: The frame.append method is deprecated and will be removed from pandas in a future version. Use pandas.concat instead.\n",
      "  final = final.append(df)\n",
      "C:\\Users\\ASUS\\AppData\\Local\\Temp\\ipykernel_19180\\1427949191.py:31: FutureWarning: The frame.append method is deprecated and will be removed from pandas in a future version. Use pandas.concat instead.\n",
      "  final = final.append(df)\n",
      "C:\\Users\\ASUS\\AppData\\Local\\Temp\\ipykernel_19180\\1427949191.py:31: FutureWarning: The frame.append method is deprecated and will be removed from pandas in a future version. Use pandas.concat instead.\n",
      "  final = final.append(df)\n",
      "C:\\Users\\ASUS\\AppData\\Local\\Temp\\ipykernel_19180\\1427949191.py:31: FutureWarning: The frame.append method is deprecated and will be removed from pandas in a future version. Use pandas.concat instead.\n",
      "  final = final.append(df)\n",
      "C:\\Users\\ASUS\\AppData\\Local\\Temp\\ipykernel_19180\\1427949191.py:31: FutureWarning: The frame.append method is deprecated and will be removed from pandas in a future version. Use pandas.concat instead.\n",
      "  final = final.append(df)\n",
      "C:\\Users\\ASUS\\AppData\\Local\\Temp\\ipykernel_19180\\1427949191.py:31: FutureWarning: The frame.append method is deprecated and will be removed from pandas in a future version. Use pandas.concat instead.\n",
      "  final = final.append(df)\n",
      "C:\\Users\\ASUS\\AppData\\Local\\Temp\\ipykernel_19180\\1427949191.py:31: FutureWarning: The frame.append method is deprecated and will be removed from pandas in a future version. Use pandas.concat instead.\n",
      "  final = final.append(df)\n",
      "C:\\Users\\ASUS\\AppData\\Local\\Temp\\ipykernel_19180\\1427949191.py:31: FutureWarning: The frame.append method is deprecated and will be removed from pandas in a future version. Use pandas.concat instead.\n",
      "  final = final.append(df)\n"
     ]
    }
   ],
   "source": [
    "final = pd.DataFrame()\n",
    "\n",
    "for j in range(1,11):\n",
    "    url = 'https://www.ambitionbox.com/list-of-companies?campaign=desktop_nav&page={}'.format(j)\n",
    "    \n",
    "    headers = ({'User-Agent': 'Mozilla/5.0 (Windows NT 10.0; Win64; x64) AppleWebKit/537.36 (KHTML, like Gecko) Chrome/125.0.0.0 Safari/537.36', 'Accept-Language': 'en-US, en;q=0.5'})\n",
    "    webpage = requests.get(url, headers=headers).text\n",
    "    \n",
    "    soup = BeautifulSoup(webpage, 'lxml')\n",
    "    company = soup.find_all('div', class_='companyCardWrapper')\n",
    "    name = []\n",
    "    rating = []\n",
    "    review = []\n",
    "    salaries = []\n",
    "    interviews = []\n",
    "    job = []\n",
    "    benifits = []\n",
    "\n",
    "    for i in company:\n",
    "        name.append(i.find('h2').text.strip())\n",
    "        rating.append(i.find('span', class_='companyCardWrapper__companyRatingValue').text.strip())\n",
    "        review.append(i.find_all('span', class_= \"companyCardWrapper__ActionCount\")[0].text.strip())\n",
    "        salaries.append(i.find_all('span', class_= \"companyCardWrapper__ActionCount\")[1].text.strip())\n",
    "        interviews.append(i.find_all('span', class_= \"companyCardWrapper__ActionCount\")[2].text.strip())\n",
    "        job.append(i.find_all('span', class_= \"companyCardWrapper__ActionCount\")[3].text.strip())\n",
    "        benifits.append(i.find_all('span', class_= \"companyCardWrapper__ActionCount\")[4].text.strip())\n",
    "\n",
    "    d={'name':name, 'rating':rating, 'review':review, 'salaries':salaries, 'interviews':interviews, 'job':job, 'benifits':benifits}\n",
    "\n",
    "    df=pd.DataFrame(d)\n",
    "    final = final.append(df)\n"
   ]
  },
  {
   "cell_type": "code",
   "execution_count": 49,
   "id": "e749418d",
   "metadata": {},
   "outputs": [
    {
     "data": {
      "text/plain": [
       "(200, 7)"
      ]
     },
     "execution_count": 49,
     "metadata": {},
     "output_type": "execute_result"
    }
   ],
   "source": [
    "final.shape"
   ]
  },
  {
   "cell_type": "code",
   "execution_count": null,
   "id": "88353359",
   "metadata": {},
   "outputs": [],
   "source": []
  }
 ],
 "metadata": {
  "kernelspec": {
   "display_name": "Python 3 (ipykernel)",
   "language": "python",
   "name": "python3"
  },
  "language_info": {
   "codemirror_mode": {
    "name": "ipython",
    "version": 3
   },
   "file_extension": ".py",
   "mimetype": "text/x-python",
   "name": "python",
   "nbconvert_exporter": "python",
   "pygments_lexer": "ipython3",
   "version": "3.11.4"
  }
 },
 "nbformat": 4,
 "nbformat_minor": 5
}
